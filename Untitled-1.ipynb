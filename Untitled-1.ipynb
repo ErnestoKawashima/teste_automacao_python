{
 "cells": [
  {
   "cell_type": "code",
   "execution_count": 133,
   "metadata": {},
   "outputs": [],
   "source": [
    "#bibliotecas \n",
    "from selenium import webdriver\n",
    "from selenium.common.exceptions import NoSuchElementException\n",
    "from selenium.webdriver.common.by import By\n",
    "from selenium.webdriver.support.ui import WebDriverWait\n",
    "from selenium.webdriver.support import expected_conditions as EC\n",
    "from selenium.webdriver.chrome.service import Service\n",
    "from selenium.webdriver.chrome.options import Options\n",
    "import datetime as dt\n",
    "import csv\n",
    "from time import sleep\n",
    "import traceback\n",
    "from selenium.common.exceptions import NoSuchElementException, TimeoutException"
   ]
  },
  {
   "cell_type": "code",
   "execution_count": 134,
   "metadata": {},
   "outputs": [
    {
     "name": "stdout",
     "output_type": "stream",
     "text": [
      "Chaves disponíveis: dict_keys(['username', 'password', 'items'])\n"
     ]
    }
   ],
   "source": [
    "# Inicializar o driver \n",
    "driver = webdriver.Chrome()\n",
    "\n",
    "def login_usuario(driver, username, password):\n",
    "    driver.get(\"https://www.saucedemo.com/\")  \n",
    "    # Identificar e inserir usuário no campo \"username\"\n",
    "    usuario_input = WebDriverWait(driver, 10).until(EC.visibility_of_element_located((By.ID, \"user-name\")))\n",
    "    usuario_input.send_keys(username)  # Usar a variável 'username'\n",
    "    # Identificar e inserir senha no campo \"password\"\n",
    "    senha_input = WebDriverWait(driver, 10).until(EC.visibility_of_element_located((By.ID, \"password\")))\n",
    "    senha_input.send_keys(password)  # Usar a variável 'password'\n",
    "    # Clicar no botão para logar\n",
    "    botao_login = WebDriverWait(driver, 10).until(EC.element_to_be_clickable((By.ID, \"login-button\")))\n",
    "    botao_login.click()\n",
    "\n",
    "# Ler o arquivo CSV\n",
    "caminho_arquivo = r'C:\\chromedriver\\Pasta2.csv'\n",
    "\n",
    "with open(caminho_arquivo, 'r') as csvfile:\n",
    "    reader = csv.DictReader(csvfile, delimiter=';') \n",
    "    for row in reader:\n",
    "        try:\n",
    "            print(f\"Chaves disponíveis: {row.keys()}\")\n",
    "            \n",
    "           \n",
    "            \n",
    "        except Exception as e:\n",
    "            print(f\"Erro durante a execução: {e}\")\n"
   ]
  },
  {
   "cell_type": "code",
   "execution_count": 135,
   "metadata": {},
   "outputs": [],
   "source": [
    "# Lógica para adicionar itens no carrinho\n",
    "def adicionar_ao_carrinho(driver, xpaths):\n",
    "    try:\n",
    "        for xpath_item in xpaths:\n",
    "            try:\n",
    "                botao_adicionar = driver.find_element(By.ID, xpath_item)\n",
    "                botao_adicionar.click()\n",
    "\n",
    "                print(f\"Item adicionado ao carrinho com sucesso: {xpath_item}\")\n",
    "            except TimeoutException as te:\n",
    "                print(f\"Tempo limite expirado ao aguardar o elemento: {xpath_item}: {te}\")\n",
    "            except NoSuchElementException as nse:\n",
    "                print(f\"Elemento não encontrado para o item: {xpath_item}: {nse}\")\n",
    "    except Exception as e:\n",
    "        print(f\"Erro ao adicionar itens ao carrinho: {e}\")\n"
   ]
  },
  {
   "cell_type": "code",
   "execution_count": 136,
   "metadata": {},
   "outputs": [],
   "source": [
    "# Função para visualizar o carrinho\n",
    "def visualizar_carrinho(driver):\n",
    "    try:\n",
    "        # Clicar no ícone ou link que leva ao carrinho\n",
    "        carrinho_button = WebDriverWait(driver, 10).until(\n",
    "            EC.element_to_be_clickable((By.XPATH, f'//*[@id=\"shopping_cart_container\"]/a'))\n",
    "        )\n",
    "        carrinho_button.click()\n",
    "\n",
    "        # Aguarde até que a página do carrinho seja carregada\n",
    "        WebDriverWait(driver, 10).until(\n",
    "            EC.presence_of_element_located((By.XPATH, '//*[@id=\"page_wrapper\"]'))\n",
    "        )\n",
    "\n",
    "        print(\"Carrinho visualizado com sucesso.\")\n",
    "    except Exception as e:\n",
    "        print(f\"Erro ao tentar visualizar o carrinho: {e}\")\n"
   ]
  },
  {
   "cell_type": "code",
   "execution_count": 137,
   "metadata": {},
   "outputs": [],
   "source": [
    "def click_checkout(driver):\n",
    "    botao = driver.find_element(By.ID, \"checkout\")\n",
    "    botao.click()\n",
    "\n",
    "def preenche_formulario(driver):\n",
    "    print(\"Preenchendo formulario.\")\n",
    "    nome = driver.find_element(By.ID,\"first-name\")\n",
    "    nome.send_keys(\"nome\")\n",
    "\n",
    "    nome = driver.find_element(By.ID,\"last-name\")\n",
    "    nome.send_keys(\"lastName\")\n",
    "\n",
    "    nome = driver.find_element(By.ID,\"postal-code\")\n",
    "    nome.send_keys(\"postalCode\")\n",
    "\n",
    "    print(\"Indo para proxima pagina.\")\n",
    "    botao = driver.find_element(By.ID, \"continue\")\n",
    "    botao.click()\n",
    "\n",
    "def exibir_valor_total(driver):\n",
    "    item_total = driver.find_element(By.XPATH, '*//div[attribute::class=\"summary_subtotal_label\"]').text\n",
    "    item_tax = driver.find_element(By.XPATH, '*//div[attribute::class=\"summary_tax_label\"]').text\n",
    "    item_total = driver.find_element(By.XPATH, '*//div[attribute::class=\"summary_info_label summary_total_label\"]').text\n",
    "\n",
    "    print(item_total)\n",
    "    print(item_tax)\n",
    "    print(item_total)"
   ]
  },
  {
   "cell_type": "code",
   "execution_count": 138,
   "metadata": {},
   "outputs": [
    {
     "name": "stdout",
     "output_type": "stream",
     "text": [
      "Chaves disponíveis: dict_keys(['username', 'password', 'items'])\n",
      "Item adicionado ao carrinho com sucesso: add-to-cart-sauce-labs-backpack\n",
      "Item adicionado ao carrinho com sucesso: add-to-cart-sauce-labs-bike-light\n",
      "Item adicionado ao carrinho com sucesso: add-to-cart-sauce-labs-bolt-t-shirt\n",
      "Item adicionado ao carrinho com sucesso: add-to-cart-sauce-labs-fleece-jacket\n",
      "Item adicionado ao carrinho com sucesso: add-to-cart-sauce-labs-onesie\n",
      "Item adicionado ao carrinho com sucesso: add-to-cart-test.allthethings()-t-shirt-(red)\n",
      "Carrinho visualizado com sucesso.\n",
      "Preenchendo formulario.\n",
      "Indo para proxima pagina.\n",
      "Total: $140.34\n",
      "Tax: $10.40\n",
      "Total: $140.34\n",
      "Fim\n"
     ]
    }
   ],
   "source": [
    "with open(caminho_arquivo, 'r') as csvfile:\n",
    "    reader = csv.DictReader(csvfile, delimiter=';') \n",
    "    for row in reader:\n",
    "        try:\n",
    "            print(f\"Chaves disponíveis: {row.keys()}\")\n",
    "            \n",
    "            # Fazer login\n",
    "            login_usuario(driver, row['username'], row['password'])\n",
    "            \n",
    "            # Extrair os itens do CSV\n",
    "            itens_para_adicionar = [item.strip() for item in row.get('items', '').split(',')]\n",
    "            if itens_para_adicionar: \n",
    "                # Adicionar itens ao carrinho\n",
    "                adicionar_ao_carrinho(driver, itens_para_adicionar)\n",
    "            \n",
    "            # Visualizar o carrinho\n",
    "            visualizar_carrinho(driver)\n",
    "            \n",
    "            sleep(3)\n",
    "            click_checkout(driver)\n",
    "            sleep(3)\n",
    "            preenche_formulario(driver)\n",
    "            sleep(3)\n",
    "            exibir_valor_total(driver)\n",
    "            \n",
    "        except Exception as e:\n",
    "            print(f\"Erro durante a execução: {e}\")\n",
    "            traceback.print_exc()\n",
    "    \n",
    "    print(\"Fim\")"
   ]
  }
 ],
 "metadata": {
  "kernelspec": {
   "display_name": "Python 3",
   "language": "python",
   "name": "python3"
  },
  "language_info": {
   "codemirror_mode": {
    "name": "ipython",
    "version": 3
   },
   "file_extension": ".py",
   "mimetype": "text/x-python",
   "name": "python",
   "nbconvert_exporter": "python",
   "pygments_lexer": "ipython3",
   "version": "3.12.0"
  }
 },
 "nbformat": 4,
 "nbformat_minor": 2
}
